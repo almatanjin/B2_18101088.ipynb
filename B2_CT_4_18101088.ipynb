{
  "nbformat": 4,
  "nbformat_minor": 0,
  "metadata": {
    "colab": {
      "name": " B2_CT_4_18101088.ipynb",
      "provenance": [],
      "include_colab_link": true
    },
    "kernelspec": {
      "name": "python3",
      "display_name": "Python 3"
    }
  },
  "cells": [
    {
      "cell_type": "markdown",
      "metadata": {
        "id": "view-in-github",
        "colab_type": "text"
      },
      "source": [
        "<a href=\"https://colab.research.google.com/github/almatanjin/Python.ipynb/blob/master/B2_CT_4_18101088.ipynb\" target=\"_parent\"><img src=\"https://colab.research.google.com/assets/colab-badge.svg\" alt=\"Open In Colab\"/></a>"
      ]
    },
    {
      "cell_type": "markdown",
      "metadata": {
        "id": "opLUbHpsvRwo",
        "colab_type": "text"
      },
      "source": [
        "#1\n"
      ]
    },
    {
      "cell_type": "code",
      "metadata": {
        "id": "7J5AfqYuiJSb",
        "colab_type": "code",
        "colab": {}
      },
      "source": [
        "import math\n",
        "\n",
        "class shape():\n",
        "  last=0\n",
        "  def __init__(self):\n",
        "    print(\"calculate area\")\n",
        "  def triangle(self,height,base):\n",
        "    triangle_area = (0.5*height*base)\n",
        "    print(triangle_area)\n",
        "  def square(self,a):\n",
        "    square_area=a*a\n",
        "    print(square_area)\n",
        " \n",
        "  def ractangle(self,length,width):\n",
        "    ractangle_area=length*width\n",
        "    \n",
        "    print(ractangle_area)\n",
        "  def parallelogram (self,height,base):\n",
        "    parallelogram_area=height*base\n",
        "   \n",
        "    print(parallelogram_area)\n",
        "  def Rhombos(self,p,q):\n",
        "    rhombos_area=(p*q)/2\n",
        "   \n",
        "    print(rhombos_area)\n",
        "  def Cylinder(self,r,h):\n",
        "    cylinder_area=(2*3.1416*r*r)+2*3.1416*r*h\n",
        "   \n",
        "    print(cylinder_area)\n",
        "  def Cube(self,s):\n",
        "    cube_area=6*s*s\n",
        " \n",
        "    print(cube_area)\n",
        "  def Sphere(self,radius):\n",
        "    sphere_area= 4*3.1416*radius*radius\n",
        "    print(sphere_area)\n",
        "    self.f=sphere_area\n",
        "  \n",
        "  \n",
        "  \n",
        "  \n",
        "  \n"
      ],
      "execution_count": null,
      "outputs": []
    },
    {
      "cell_type": "markdown",
      "metadata": {
        "id": "kAyQ-bhdr_ZQ",
        "colab_type": "text"
      },
      "source": [
        ""
      ]
    },
    {
      "cell_type": "code",
      "metadata": {
        "id": "cyR9LRH7kPt7",
        "colab_type": "code",
        "colab": {
          "base_uri": "https://localhost:8080/",
          "height": 34
        },
        "outputId": "14ec5cfc-97e5-4e33-fd44-81a7cfbc6d1c"
      },
      "source": [
        "alma = shape()"
      ],
      "execution_count": null,
      "outputs": [
        {
          "output_type": "stream",
          "text": [
            "calculate area\n"
          ],
          "name": "stdout"
        }
      ]
    },
    {
      "cell_type": "code",
      "metadata": {
        "id": "mMs9BfSnr2ci",
        "colab_type": "code",
        "colab": {
          "base_uri": "https://localhost:8080/",
          "height": 34
        },
        "outputId": "307529de-7dc6-4cd3-d787-99abf385d2f6"
      },
      "source": [
        "alma.Sphere(10)"
      ],
      "execution_count": null,
      "outputs": [
        {
          "output_type": "stream",
          "text": [
            "1256.64\n"
          ],
          "name": "stdout"
        }
      ]
    },
    {
      "cell_type": "code",
      "metadata": {
        "id": "Irq0RRX75SCt",
        "colab_type": "code",
        "colab": {
          "base_uri": "https://localhost:8080/",
          "height": 34
        },
        "outputId": "03810c69-8ff3-4dfe-e7a3-8249e47f2709"
      },
      "source": [
        "alma.f"
      ],
      "execution_count": null,
      "outputs": [
        {
          "output_type": "execute_result",
          "data": {
            "text/plain": [
              "1256.64"
            ]
          },
          "metadata": {
            "tags": []
          },
          "execution_count": 88
        }
      ]
    },
    {
      "cell_type": "code",
      "metadata": {
        "id": "tPeANiIIBLhg",
        "colab_type": "code",
        "colab": {}
      },
      "source": [
        ""
      ],
      "execution_count": null,
      "outputs": []
    },
    {
      "cell_type": "code",
      "metadata": {
        "id": "fvceX8UvrN1S",
        "colab_type": "code",
        "colab": {
          "base_uri": "https://localhost:8080/",
          "height": 34
        },
        "outputId": "9cf43be4-1dab-4b35-b559-981eac4de18d"
      },
      "source": [
        "alma.Cube(10)"
      ],
      "execution_count": null,
      "outputs": [
        {
          "output_type": "stream",
          "text": [
            "600\n"
          ],
          "name": "stdout"
        }
      ]
    },
    {
      "cell_type": "code",
      "metadata": {
        "id": "Zx3rqCxoqYS4",
        "colab_type": "code",
        "colab": {
          "base_uri": "https://localhost:8080/",
          "height": 34
        },
        "outputId": "68a004b4-7ec7-4e51-f6ad-b6db33e3c627"
      },
      "source": [
        "alma.Cylinder(20,50)"
      ],
      "execution_count": null,
      "outputs": [
        {
          "output_type": "stream",
          "text": [
            "8796.48\n"
          ],
          "name": "stdout"
        }
      ]
    },
    {
      "cell_type": "code",
      "metadata": {
        "id": "VENbraMNpfjj",
        "colab_type": "code",
        "colab": {
          "base_uri": "https://localhost:8080/",
          "height": 34
        },
        "outputId": "6aaf818f-9d4f-4107-8045-b5c5b5b506b4"
      },
      "source": [
        "alma.Rhombos(20,30)"
      ],
      "execution_count": null,
      "outputs": [
        {
          "output_type": "stream",
          "text": [
            "300.0\n"
          ],
          "name": "stdout"
        }
      ]
    },
    {
      "cell_type": "code",
      "metadata": {
        "id": "BLu8kbt3oymE",
        "colab_type": "code",
        "colab": {
          "base_uri": "https://localhost:8080/",
          "height": 34
        },
        "outputId": "c460e9a7-ad1f-4dc9-bd57-d2d3711a4a33"
      },
      "source": [
        "alma.parallelogram(90,50)"
      ],
      "execution_count": null,
      "outputs": [
        {
          "output_type": "stream",
          "text": [
            "4500\n"
          ],
          "name": "stdout"
        }
      ]
    },
    {
      "cell_type": "code",
      "metadata": {
        "id": "He8OvRJQoDxb",
        "colab_type": "code",
        "colab": {
          "base_uri": "https://localhost:8080/",
          "height": 34
        },
        "outputId": "7117f13a-9711-47c3-b62f-ad180d3a180e"
      },
      "source": [
        "alma.ractangle(20,50)"
      ],
      "execution_count": null,
      "outputs": [
        {
          "output_type": "stream",
          "text": [
            "1000\n"
          ],
          "name": "stdout"
        }
      ]
    },
    {
      "cell_type": "code",
      "metadata": {
        "id": "sKBbzp_T5HQP",
        "colab_type": "code",
        "colab": {
          "base_uri": "https://localhost:8080/",
          "height": 163
        },
        "outputId": "59d2ccdf-f9e9-43b9-9232-407b02b810c1"
      },
      "source": [
        "lastresult\n"
      ],
      "execution_count": null,
      "outputs": [
        {
          "output_type": "error",
          "ename": "NameError",
          "evalue": "ignored",
          "traceback": [
            "\u001b[0;31m---------------------------------------------------------------------------\u001b[0m",
            "\u001b[0;31mNameError\u001b[0m                                 Traceback (most recent call last)",
            "\u001b[0;32m<ipython-input-46-0f93f25c0c56>\u001b[0m in \u001b[0;36m<module>\u001b[0;34m()\u001b[0m\n\u001b[0;32m----> 1\u001b[0;31m \u001b[0mlastresult\u001b[0m\u001b[0;34m\u001b[0m\u001b[0;34m\u001b[0m\u001b[0m\n\u001b[0m",
            "\u001b[0;31mNameError\u001b[0m: name 'lastresult' is not defined"
          ]
        }
      ]
    },
    {
      "cell_type": "code",
      "metadata": {
        "id": "c6qK9izGmY_v",
        "colab_type": "code",
        "colab": {
          "base_uri": "https://localhost:8080/",
          "height": 34
        },
        "outputId": "d6a2fcf0-7290-4599-9b33-daf09d81e565"
      },
      "source": [
        "alma.triangle(20,30)"
      ],
      "execution_count": null,
      "outputs": [
        {
          "output_type": "stream",
          "text": [
            "300.0\n"
          ],
          "name": "stdout"
        }
      ]
    },
    {
      "cell_type": "code",
      "metadata": {
        "id": "2CsUVxbWkfBj",
        "colab_type": "code",
        "colab": {
          "base_uri": "https://localhost:8080/",
          "height": 34
        },
        "outputId": "f3f1e9c2-2a2d-4adc-f6ae-e5a44bff8112"
      },
      "source": [
        "alma.square(20)"
      ],
      "execution_count": null,
      "outputs": [
        {
          "output_type": "stream",
          "text": [
            "400\n"
          ],
          "name": "stdout"
        }
      ]
    },
    {
      "cell_type": "markdown",
      "metadata": {
        "id": "_jpx17ffsM-Z",
        "colab_type": "text"
      },
      "source": [
        "#2\n"
      ]
    },
    {
      "cell_type": "code",
      "metadata": {
        "id": "1R_o4MflsPOE",
        "colab_type": "code",
        "colab": {}
      },
      "source": [
        "class Student():\n",
        "  def __init__(self,name,id,dept,inst,cgpa):\n",
        "    self.name=name\n",
        "    self.id=id\n",
        "    self.dept=dept\n",
        "    self.inst=inst\n",
        "    self.__cgpa=cgpa\n",
        "    \n",
        "  def exam(self):\n",
        "    print(\"exam time\")\n",
        "  def study(self):\n",
        "    print(\"study time\")\n",
        "  def showcgpa(self):\n",
        "    print(self.__cgpa)"
      ],
      "execution_count": null,
      "outputs": []
    },
    {
      "cell_type": "code",
      "metadata": {
        "id": "dJypxbdDukgY",
        "colab_type": "code",
        "colab": {}
      },
      "source": [
        ""
      ],
      "execution_count": null,
      "outputs": []
    },
    {
      "cell_type": "code",
      "metadata": {
        "id": "SiILWsccsgM2",
        "colab_type": "code",
        "colab": {}
      },
      "source": [
        "student1 = Student(\"alma\",18101088,\"cse\",\"uap\",3.88)"
      ],
      "execution_count": null,
      "outputs": []
    },
    {
      "cell_type": "code",
      "metadata": {
        "id": "cW6WYhVXuyex",
        "colab_type": "code",
        "colab": {
          "base_uri": "https://localhost:8080/",
          "height": 34
        },
        "outputId": "c3c9c15e-88dd-4788-da99-8d97a5f2b75d"
      },
      "source": [
        "student1.showcgpa()"
      ],
      "execution_count": null,
      "outputs": [
        {
          "output_type": "stream",
          "text": [
            "3.88\n"
          ],
          "name": "stdout"
        }
      ]
    },
    {
      "cell_type": "code",
      "metadata": {
        "id": "CG64fVLEt4jB",
        "colab_type": "code",
        "colab": {
          "base_uri": "https://localhost:8080/",
          "height": 34
        },
        "outputId": "9804b7b9-56ec-4051-8f45-9456d0405b7b"
      },
      "source": [
        "student1.exam()"
      ],
      "execution_count": null,
      "outputs": [
        {
          "output_type": "stream",
          "text": [
            "exam time\n"
          ],
          "name": "stdout"
        }
      ]
    },
    {
      "cell_type": "code",
      "metadata": {
        "id": "qNI1FBqYt8Xr",
        "colab_type": "code",
        "colab": {
          "base_uri": "https://localhost:8080/",
          "height": 34
        },
        "outputId": "2d36ae95-f22b-4bd8-e1b4-1e315fb45a02"
      },
      "source": [
        "student1.study()"
      ],
      "execution_count": null,
      "outputs": [
        {
          "output_type": "stream",
          "text": [
            "study time\n"
          ],
          "name": "stdout"
        }
      ]
    },
    {
      "cell_type": "code",
      "metadata": {
        "id": "_p8zIyiguBJO",
        "colab_type": "code",
        "colab": {
          "base_uri": "https://localhost:8080/",
          "height": 35
        },
        "outputId": "e67315c3-6082-40bb-b588-29090f71b748"
      },
      "source": [
        "student1.name"
      ],
      "execution_count": null,
      "outputs": [
        {
          "output_type": "execute_result",
          "data": {
            "application/vnd.google.colaboratory.intrinsic+json": {
              "type": "string"
            },
            "text/plain": [
              "'alma'"
            ]
          },
          "metadata": {
            "tags": []
          },
          "execution_count": 48
        }
      ]
    },
    {
      "cell_type": "code",
      "metadata": {
        "id": "Nq5TLM90uFbb",
        "colab_type": "code",
        "colab": {
          "base_uri": "https://localhost:8080/",
          "height": 34
        },
        "outputId": "96b98622-df02-4432-c922-e5416c8dcc8e"
      },
      "source": [
        "student1.id"
      ],
      "execution_count": null,
      "outputs": [
        {
          "output_type": "execute_result",
          "data": {
            "text/plain": [
              "18101088"
            ]
          },
          "metadata": {
            "tags": []
          },
          "execution_count": 49
        }
      ]
    }
  ]
}