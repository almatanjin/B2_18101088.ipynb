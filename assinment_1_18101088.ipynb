{
  "nbformat": 4,
  "nbformat_minor": 0,
  "metadata": {
    "colab": {
      "name": "assinment_1_18101088.ipynb",
      "provenance": [],
      "authorship_tag": "ABX9TyOAg4gsmOfjC6V2slkUAJ3A",
      "include_colab_link": true
    },
    "kernelspec": {
      "name": "python3",
      "display_name": "Python 3"
    }
  },
  "cells": [
    {
      "cell_type": "markdown",
      "metadata": {
        "id": "view-in-github",
        "colab_type": "text"
      },
      "source": [
        "<a href=\"https://colab.research.google.com/github/almatanjin/Python.ipynb/blob/master/assinment_1_18101088.ipynb\" target=\"_parent\"><img src=\"https://colab.research.google.com/assets/colab-badge.svg\" alt=\"Open In Colab\"/></a>"
      ]
    },
    {
      "cell_type": "code",
      "metadata": {
        "id": "L3WBDhk8Eegk",
        "colab_type": "code",
        "colab": {}
      },
      "source": [
        "class Computer :\n",
        "  def __init__(self):\n",
        "    print(\"Its a computer\")\n",
        "  def speed(self,stype):\n",
        "    self.stype = stype\n",
        "    print(\"its speed \",stype)\n",
        "  def reliable(self,rate):\n",
        "    self.rate = rate\n",
        "    print(\"its \",rate,\"reliable\")\n",
        "  \n",
        "  def signal(self,signal):\n",
        "    self.signal = signal\n",
        "    print(\"it use \",signal , \"signal\")\n"
      ],
      "execution_count": null,
      "outputs": []
    },
    {
      "cell_type": "code",
      "metadata": {
        "id": "mf4wkPc7GoWK",
        "colab_type": "code",
        "colab": {}
      },
      "source": [
        "class Analogcomputer(Computer) :\n",
        "  def __init__(self):\n",
        "    Computer.__init__(self)\n",
        "    print(\"Its a analog computer\")\n",
        "    print(\"It work with continous signal\")\n",
        "  def wave(self):\n",
        "   print(\"It have sine wave or continuous wave that contains time-varying quantities\")\n",
        "  def showresult(self):\n",
        "   print(\"it show result in the form of voltage signal\")\n",
        "  def digit(self):\n",
        "   print(\"Data not to transformed into digit\")\n",
        "  def storage(self):\n",
        "   print(\"it has no storage capacity\")\n",
        "  def graph(self,type1,type2):\n",
        "    self.type1=type1\n",
        "    self.type2=type2\n",
        "    print(\"graphically display\",type1,\"vs\",type2)"
      ],
      "execution_count": null,
      "outputs": []
    },
    {
      "cell_type": "code",
      "metadata": {
        "id": "x6RkSDYDM2Ov",
        "colab_type": "code",
        "colab": {}
      },
      "source": [
        "class Digitalcomputer(Computer) :\n",
        "  def __init__(self):\n",
        "    Computer.__init__(self)\n",
        "    print(\"Its a digital computer\")\n",
        "    print(\"It work with discontinous signal\")\n",
        "  def numbersystem(self):\n",
        "   print(\"digital computer use binary number data i.e. in the form of 0 and 1\")\n",
        "  def digit(self):\n",
        "   print(\"Data transformed into digit\")\n",
        "  def output(self):\n",
        "   print(\"it show result in the form of monitor\")\n",
        "  def storage(self):\n",
        "   print(\"it has storage capacity\")\n",
        "   "
      ],
      "execution_count": null,
      "outputs": []
    },
    {
      "cell_type": "code",
      "metadata": {
        "id": "N9trkLJgQci8",
        "colab_type": "code",
        "colab": {}
      },
      "source": [
        "class Hybridcomputer(Digitalcomputer,Analogcomputer) :\n",
        "  def __init__(self):\n",
        "    print(\"It work with discontinous and continous both signal\") \n",
        "    print(\"Its a Hybrid computer\")\n",
        "  def transfer(self):\n",
        "    print(\"transfer data analog to digital and vice versa\")\n"
      ],
      "execution_count": null,
      "outputs": []
    },
    {
      "cell_type": "code",
      "metadata": {
        "id": "BozMmqUx2oJW",
        "colab_type": "code",
        "colab": {}
      },
      "source": [
        "class Deltar(Analogcomputer):\n",
        "  def __init__(self):\n",
        "   Analogcomputer.__init__(self)\n",
        "   print(\"used for desing and implemention of the delta work from 1960 to 1984\")\n"
      ],
      "execution_count": null,
      "outputs": []
    },
    {
      "cell_type": "code",
      "metadata": {
        "id": "VkwV_3045biT",
        "colab_type": "code",
        "colab": {}
      },
      "source": [
        "class E63flight(Analogcomputer):\n",
        "  def __init__(self):\n",
        "   Analogcomputer.__init__(self)\n",
        "   print(\"used in flight trainig\")\n"
      ],
      "execution_count": null,
      "outputs": []
    },
    {
      "cell_type": "code",
      "metadata": {
        "id": "xdGGsVki5phh",
        "colab_type": "code",
        "colab": {}
      },
      "source": [
        "class Desktop(Digitalcomputer):\n",
        "   def __init__(self):\n",
        "    Digitalcomputer.__init__(self)\n",
        "    print(\"Desktop desiged to be used in a single location \")\n",
        "   def power(self) :\n",
        "     print(\"higher wattage power supply\")\n",
        " \n"
      ],
      "execution_count": null,
      "outputs": []
    },
    {
      "cell_type": "code",
      "metadata": {
        "id": "PZisgvCb8D_q",
        "colab_type": "code",
        "colab": {}
      },
      "source": [
        "class Laptop(Digitalcomputer):\n",
        "   def __init__(self):\n",
        "    Digitalcomputer.__init__(self)\n",
        "    print(\"laptop desiged to be taken from place to place \")\n",
        "   def power(self) :\n",
        "    print(\" low power supply than desktop\")\n",
        " "
      ],
      "execution_count": null,
      "outputs": []
    },
    {
      "cell_type": "code",
      "metadata": {
        "id": "YOiz-VyAF5fM",
        "colab_type": "code",
        "colab": {}
      },
      "source": [
        "class Electrocardioghrapy(Hybridcomputer):\n",
        "  def work(self):\n",
        "     print(\"It is a graph voltage vs timw of the electrical activity of the heart\")\n"
      ],
      "execution_count": null,
      "outputs": []
    },
    {
      "cell_type": "code",
      "metadata": {
        "id": "RJCq5vroKl9s",
        "colab_type": "code",
        "colab": {}
      },
      "source": [
        "class Oscilloscope(Hybridcomputer):\n",
        "  def work(self):\n",
        "     print(\"It display the change of electrical signal over time with voltage\")"
      ],
      "execution_count": null,
      "outputs": []
    },
    {
      "cell_type": "code",
      "metadata": {
        "id": "3tuldeH4SA5y",
        "colab_type": "code",
        "colab": {
          "base_uri": "https://localhost:8080/",
          "height": 34
        },
        "outputId": "d5a4e3c3-a590-45d6-b5a8-5038a456b7b2"
      },
      "source": [
        "computer = Computer()"
      ],
      "execution_count": null,
      "outputs": [
        {
          "output_type": "stream",
          "text": [
            "Its a computer\n"
          ],
          "name": "stdout"
        }
      ]
    },
    {
      "cell_type": "code",
      "metadata": {
        "id": "3mfKmb4fVeSw",
        "colab_type": "code",
        "colab": {
          "base_uri": "https://localhost:8080/",
          "height": 68
        },
        "outputId": "812c5cdc-b16f-4e85-bbb8-a5eeae1fab5d"
      },
      "source": [
        "macbook = Digitalcomputer()"
      ],
      "execution_count": null,
      "outputs": [
        {
          "output_type": "stream",
          "text": [
            "Its a computer\n",
            "Its a digital computer\n",
            "It work with discontinous signal\n"
          ],
          "name": "stdout"
        }
      ]
    },
    {
      "cell_type": "code",
      "metadata": {
        "id": "dy0GwEuDWFPf",
        "colab_type": "code",
        "colab": {
          "base_uri": "https://localhost:8080/",
          "height": 85
        },
        "outputId": "2d864112-21be-459d-cc5a-9eaa2efa77cd"
      },
      "source": [
        "macbook.reliable(\"high\")\n",
        "macbook.numbersystem()\n",
        "macbook.digit()\n",
        "macbook.output()\n",
        "\n"
      ],
      "execution_count": null,
      "outputs": [
        {
          "output_type": "stream",
          "text": [
            "its  high reliable\n",
            "digital computer use binary number data i.e. in the form of 0 and 1\n",
            "Data transformed into digit\n",
            "it show result in the form of monitor\n"
          ],
          "name": "stdout"
        }
      ]
    },
    {
      "cell_type": "code",
      "metadata": {
        "id": "DVb2LOIoYZrN",
        "colab_type": "code",
        "colab": {
          "base_uri": "https://localhost:8080/",
          "height": 68
        },
        "outputId": "b4c9c7a2-8991-49ad-9591-4a2e9f3ad6f7"
      },
      "source": [
        "librascope = Analogcomputer()"
      ],
      "execution_count": null,
      "outputs": [
        {
          "output_type": "stream",
          "text": [
            "Its a computer\n",
            "Its a analog computer\n",
            "It work with continous signal\n"
          ],
          "name": "stdout"
        }
      ]
    },
    {
      "cell_type": "code",
      "metadata": {
        "id": "7DzaxUffYe2B",
        "colab_type": "code",
        "colab": {
          "base_uri": "https://localhost:8080/",
          "height": 34
        },
        "outputId": "56ac4aa9-26dc-45fe-ab6f-43d867af700f"
      },
      "source": [
        "librascope.storage()"
      ],
      "execution_count": null,
      "outputs": [
        {
          "output_type": "stream",
          "text": [
            "it has no storage capacity\n"
          ],
          "name": "stdout"
        }
      ]
    },
    {
      "cell_type": "code",
      "metadata": {
        "id": "mlJphKASK9xk",
        "colab_type": "code",
        "colab": {
          "base_uri": "https://localhost:8080/",
          "height": 51
        },
        "outputId": "28e17039-783d-450e-b7f2-13a3bf438639"
      },
      "source": [
        "oscilloscope= Oscilloscope()"
      ],
      "execution_count": null,
      "outputs": [
        {
          "output_type": "stream",
          "text": [
            "It work with discontinous and continous both signal\n",
            "Its a Hybrid computer\n"
          ],
          "name": "stdout"
        }
      ]
    },
    {
      "cell_type": "code",
      "metadata": {
        "id": "5TT2L8h-LI3O",
        "colab_type": "code",
        "colab": {
          "base_uri": "https://localhost:8080/",
          "height": 34
        },
        "outputId": "aceaa5c2-49ac-4e49-f4c1-54807d1b485d"
      },
      "source": [
        "oscilloscope.graph(\"time\",\"voltage\")"
      ],
      "execution_count": null,
      "outputs": [
        {
          "output_type": "stream",
          "text": [
            "graphically display time vs voltage\n"
          ],
          "name": "stdout"
        }
      ]
    },
    {
      "cell_type": "code",
      "metadata": {
        "id": "lbaQw2lPY_cd",
        "colab_type": "code",
        "colab": {
          "base_uri": "https://localhost:8080/",
          "height": 51
        },
        "outputId": "a258c881-dea4-4fa0-f61f-b99fe8647c88"
      },
      "source": [
        " phonocardiogram= Hybridcomputer()"
      ],
      "execution_count": null,
      "outputs": [
        {
          "output_type": "stream",
          "text": [
            "It work with discontinous and continous both signal\n",
            "Its a Hybrid computer\n"
          ],
          "name": "stdout"
        }
      ]
    },
    {
      "cell_type": "code",
      "metadata": {
        "id": "WudvoCYCaEvq",
        "colab_type": "code",
        "colab": {
          "base_uri": "https://localhost:8080/",
          "height": 34
        },
        "outputId": "f13bc824-cdac-4fb4-b0c8-fdc65c9ad92b"
      },
      "source": [
        "phonocardiogram.wave()"
      ],
      "execution_count": null,
      "outputs": [
        {
          "output_type": "stream",
          "text": [
            "It have sine wave or continuous wave that contains time-varying quantities\n"
          ],
          "name": "stdout"
        }
      ]
    },
    {
      "cell_type": "code",
      "metadata": {
        "id": "rT2oIQdZ_s1O",
        "colab_type": "code",
        "colab": {
          "base_uri": "https://localhost:8080/",
          "height": 85
        },
        "outputId": "afbfdd92-db5c-4087-c80c-679fdb9fd14b"
      },
      "source": [
        "Hp = Desktop()"
      ],
      "execution_count": null,
      "outputs": [
        {
          "output_type": "stream",
          "text": [
            "Its a computer\n",
            "Its a digital computer\n",
            "It work with discontinous signal\n",
            "Desktop desiged to be used in a single location \n"
          ],
          "name": "stdout"
        }
      ]
    },
    {
      "cell_type": "code",
      "metadata": {
        "id": "g6_zdnsg_5tW",
        "colab_type": "code",
        "colab": {
          "base_uri": "https://localhost:8080/",
          "height": 34
        },
        "outputId": "08f1863b-c161-4e71-e0ed-8dbdaba95c8b"
      },
      "source": [
        "Hp.signal(\"digital\")"
      ],
      "execution_count": null,
      "outputs": [
        {
          "output_type": "stream",
          "text": [
            "it use  digital signal\n"
          ],
          "name": "stdout"
        }
      ]
    },
    {
      "cell_type": "code",
      "metadata": {
        "id": "uKyHqXVPB-AI",
        "colab_type": "code",
        "colab": {
          "base_uri": "https://localhost:8080/",
          "height": 85
        },
        "outputId": "b864af59-3758-4cd5-c9c0-d71cb8e72d38"
      },
      "source": [
        "ACER = Laptop()"
      ],
      "execution_count": null,
      "outputs": [
        {
          "output_type": "stream",
          "text": [
            "Its a computer\n",
            "Its a digital computer\n",
            "It work with discontinous signal\n",
            "laptop desiged to be taken from place to place \n"
          ],
          "name": "stdout"
        }
      ]
    },
    {
      "cell_type": "code",
      "metadata": {
        "id": "HJ1HSDAPCMu8",
        "colab_type": "code",
        "colab": {
          "base_uri": "https://localhost:8080/",
          "height": 34
        },
        "outputId": "7eff3bb6-7b34-4b1d-e1c5-f0f6180d4b2d"
      },
      "source": [
        "ACER.power()"
      ],
      "execution_count": null,
      "outputs": [
        {
          "output_type": "stream",
          "text": [
            " low power supply than desktop\n"
          ],
          "name": "stdout"
        }
      ]
    },
    {
      "cell_type": "code",
      "metadata": {
        "id": "ToRxrskuFQEt",
        "colab_type": "code",
        "colab": {
          "base_uri": "https://localhost:8080/",
          "height": 51
        },
        "outputId": "c812b9c7-01aa-485f-a408-dbd84538f995"
      },
      "source": [
        "electrocardiography = Electrocardioghrapy()"
      ],
      "execution_count": null,
      "outputs": [
        {
          "output_type": "stream",
          "text": [
            "It work with discontinous and continous both signal\n",
            "Its a Hybrid computer\n"
          ],
          "name": "stdout"
        }
      ]
    },
    {
      "cell_type": "code",
      "metadata": {
        "id": "rYTOXaAVGbVW",
        "colab_type": "code",
        "colab": {
          "base_uri": "https://localhost:8080/",
          "height": 34
        },
        "outputId": "5fc200f4-c8c7-4e48-8a31-a8c05b6b3a4f"
      },
      "source": [
        "electrocardiography.work()"
      ],
      "execution_count": null,
      "outputs": [
        {
          "output_type": "stream",
          "text": [
            "It is a graph voltage vs timw of the electrical activity of the heart\n"
          ],
          "name": "stdout"
        }
      ]
    },
    {
      "cell_type": "code",
      "metadata": {
        "id": "fBE_KP8lGie0",
        "colab_type": "code",
        "colab": {}
      },
      "source": [
        ""
      ],
      "execution_count": null,
      "outputs": []
    }
  ]
}