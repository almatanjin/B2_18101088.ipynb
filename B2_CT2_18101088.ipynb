{
  "nbformat": 4,
  "nbformat_minor": 0,
  "metadata": {
    "colab": {
      "name": "B2_CT2_18101088.ipynb",
      "provenance": [],
      "include_colab_link": true
    },
    "kernelspec": {
      "name": "python3",
      "display_name": "Python 3"
    }
  },
  "cells": [
    {
      "cell_type": "markdown",
      "metadata": {
        "id": "view-in-github",
        "colab_type": "text"
      },
      "source": [
        "<a href=\"https://colab.research.google.com/github/almatanjin/B2_CT2_18101088.ipynb/blob/master/B2_CT2_18101088.ipynb\" target=\"_parent\"><img src=\"https://colab.research.google.com/assets/colab-badge.svg\" alt=\"Open In Colab\"/></a>"
      ]
    },
    {
      "cell_type": "code",
      "metadata": {
        "id": "WZWI9vN0Muqh",
        "colab_type": "code",
        "colab": {
          "base_uri": "https://localhost:8080/",
          "height": 51
        },
        "outputId": "677592ea-9863-4b40-9345-ee9439418394"
      },
      "source": [
        "mark = int (input())\n",
        "if (mark>=80):\n",
        "  print(\"A+\")\n",
        "elif (mark>=75):\n",
        "  print(\"A\")\n",
        "elif (mark>=70):\n",
        "  print(\"A-\")\n",
        "elif (mark>=65):\n",
        "  print(\"B+\")\n",
        "elif (mark>=60):\n",
        "  print(\"B\")\n",
        "elif (mark>=55):\n",
        "  print(\"B-\")\n",
        "elif (mark>=50):\n",
        "  print(\"C+\")\n",
        "elif (mark>=45):\n",
        "  print(\"C\")\n",
        "elif (mark>=40):\n",
        "  print(\"D\")\n",
        "else :\n",
        "  print(\"F\")"
      ],
      "execution_count": null,
      "outputs": [
        {
          "output_type": "stream",
          "text": [
            "74\n",
            "A-\n"
          ],
          "name": "stdout"
        }
      ]
    },
    {
      "cell_type": "markdown",
      "metadata": {
        "id": "TmKrJQXicdvl",
        "colab_type": "text"
      },
      "source": [
        "2"
      ]
    },
    {
      "cell_type": "code",
      "metadata": {
        "id": "xqfMnc--ce2k",
        "colab_type": "code",
        "colab": {
          "base_uri": "https://localhost:8080/",
          "height": 51
        },
        "outputId": "d0433035-9b2b-497f-c08b-cf0a515e31eb"
      },
      "source": [
        "num= int(input())\n",
        "if(num<0):\n",
        "  print(\"negative number\")\n",
        "else :\n",
        "  print(\"non-negative number\")"
      ],
      "execution_count": null,
      "outputs": [
        {
          "output_type": "stream",
          "text": [
            "-1\n",
            "negative number\n"
          ],
          "name": "stdout"
        }
      ]
    },
    {
      "cell_type": "markdown",
      "metadata": {
        "id": "LstbgoQ5c9QE",
        "colab_type": "text"
      },
      "source": [
        "3\n"
      ]
    },
    {
      "cell_type": "code",
      "metadata": {
        "id": "TzeNdsNCc-ck",
        "colab_type": "code",
        "colab": {
          "base_uri": "https://localhost:8080/",
          "height": 68
        },
        "outputId": "849beb60-5bca-4cd7-aef7-e2451e10ec74"
      },
      "source": [
        "l = [10,5,100,4,6]\n",
        "index = int (input())\n",
        "index2 = int (input())\n",
        "temp=0\n",
        "temp=l[index]\n",
        "l[index]=l[index2]\n",
        "l[index2]=temp\n",
        "print(l)"
      ],
      "execution_count": null,
      "outputs": [
        {
          "output_type": "stream",
          "text": [
            "2\n",
            "4\n",
            "[10, 5, 6, 4, 100]\n"
          ],
          "name": "stdout"
        }
      ]
    },
    {
      "cell_type": "code",
      "metadata": {
        "id": "KLjquVG4hec-",
        "colab_type": "code",
        "colab": {
          "base_uri": "https://localhost:8080/",
          "height": 153
        },
        "outputId": "82987d37-b346-4c4b-cae9-4bca231ae852"
      },
      "source": [
        "l2=[0,0,0,0,0]\n",
        "element1=int(input())\n",
        "element2=int(input())\n",
        "element3=int(input())\n",
        "element4=int(input())\n",
        "element5=int(input())\n",
        "index = int (input())\n",
        "index2 = int (input())\n",
        "temp=0\n",
        "l2[0]=element1\n",
        "l2[1]=element2\n",
        "l2[2]=element3\n",
        "l2[3]=element4\n",
        "l2[4]=element5\n",
        "temp=l2[index]\n",
        "l2[index]=l2[index2]\n",
        "l2[index2]=temp\n",
        "print(l2)\n"
      ],
      "execution_count": null,
      "outputs": [
        {
          "output_type": "stream",
          "text": [
            "10\n",
            "20\n",
            "30\n",
            "40\n",
            "50\n",
            "2\n",
            "3\n",
            "[10, 20, 40, 30, 50]\n"
          ],
          "name": "stdout"
        }
      ]
    },
    {
      "cell_type": "markdown",
      "metadata": {
        "id": "jdII5rkmlH7y",
        "colab_type": "text"
      },
      "source": [
        ""
      ]
    },
    {
      "cell_type": "code",
      "metadata": {
        "id": "yAcgbuBslIi0",
        "colab_type": "code",
        "colab": {}
      },
      "source": [
        "id=[77920,77921,77922,77923]\n",
        "employees = {\n",
        "    \n",
        "    id[0] : {\n",
        "        \"lastname\":\"jackshon\",\n",
        "    \"firstname\":\"stephen\",\n",
        "    \"hiredate\":\"11-29-1999\"\n",
        "        \n",
        "    },\n",
        "    id[1] :{\n",
        "        \"lastname\":\"rynload\",\n",
        "    \"firstname\":'sandy',\n",
        "    \"hiredate\":'1-04-1992'\n",
        "        \n",
        "    },\n",
        "    id[2] :{\n",
        "        \"lastname\":'a',\n",
        "    \"firstname\":'b',\n",
        "    \"hiredate\":'11'\n",
        "        \n",
        "    },\n",
        "    id[3]:{\n",
        "        \"lastname\":'jackson',\n",
        "    \"firstname\":'linda',\n",
        "    \"hiredate\":'11-2-1990'\n",
        "        \n",
        "    }\n",
        "}\n",
        "   \n"
      ],
      "execution_count": null,
      "outputs": []
    },
    {
      "cell_type": "code",
      "metadata": {
        "id": "xF1nmg3tzhzT",
        "colab_type": "code",
        "colab": {
          "base_uri": "https://localhost:8080/",
          "height": 34
        },
        "outputId": "1fde52a6-5454-4346-e52d-105ed68f6dfd"
      },
      "source": [
        "id[0]"
      ],
      "execution_count": null,
      "outputs": [
        {
          "output_type": "execute_result",
          "data": {
            "text/plain": [
              "77920"
            ]
          },
          "metadata": {
            "tags": []
          },
          "execution_count": 10
        }
      ]
    },
    {
      "cell_type": "code",
      "metadata": {
        "id": "YhJwUibbztD-",
        "colab_type": "code",
        "colab": {
          "base_uri": "https://localhost:8080/",
          "height": 51
        },
        "outputId": "056997dd-65b7-4c32-9517-d47bfad4f41a"
      },
      "source": [
        "employees[int(input())]"
      ],
      "execution_count": null,
      "outputs": [
        {
          "output_type": "stream",
          "text": [
            "77920\n"
          ],
          "name": "stdout"
        },
        {
          "output_type": "execute_result",
          "data": {
            "text/plain": [
              "{'firstname': 'stephen', 'hiredate': '11-29-1999', 'lastname': 'jackshon'}"
            ]
          },
          "metadata": {
            "tags": []
          },
          "execution_count": 12
        }
      ]
    }
  ]
}